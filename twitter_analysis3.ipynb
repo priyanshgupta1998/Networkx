{
  "nbformat": 4,
  "nbformat_minor": 0,
  "metadata": {
    "colab": {
      "name": "TensorFlow_with_GPU.ipynb",
      "version": "0.3.2",
      "provenance": [],
      "collapsed_sections": [],
      "include_colab_link": true
    },
    "kernelspec": {
      "name": "python3",
      "display_name": "Python 3"
    },
    "accelerator": "GPU"
  },
  "cells": [
    {
      "cell_type": "markdown",
      "metadata": {
        "id": "view-in-github",
        "colab_type": "text"
      },
      "source": [
        "<a href=\"https://colab.research.google.com/github/priyanshgupta1998/Networkx/blob/master/twitter_analysis3.ipynb\" target=\"_parent\"><img src=\"https://colab.research.google.com/assets/colab-badge.svg\" alt=\"Open In Colab\"/></a>"
      ]
    },
    {
      "metadata": {
        "id": "0StGddkSUaD4",
        "colab_type": "text"
      },
      "cell_type": "markdown",
      "source": [
        "#cursor_and_pagination"
      ]
    },
    {
      "metadata": {
        "id": "2nqRvvl2lC5x",
        "colab_type": "text"
      },
      "cell_type": "markdown",
      "source": [
        "#Tweepy   \n",
        "An easy-to-use Python library for accessing the Twitter API.  \n",
        "http://www.tweepy.org   \n",
        "https://tweepy.readthedocs.io/en/v3.5.0/\n",
        "\n",
        "\n",
        "\n",
        "\n",
        "---\n",
        "\n",
        "http://docs.tweepy.org/en/v3.5.0/cursor_tutorial.html"
      ]
    },
    {
      "metadata": {
        "id": "aFAAkuvYUJ0g",
        "colab_type": "code",
        "colab": {}
      },
      "cell_type": "code",
      "source": [
        "from tweepy import API \n",
        "from tweepy import Cursor\n",
        "from tweepy.streaming import StreamListener\n",
        "from tweepy import OAuthHandler\n",
        "from tweepy import Stream"
      ],
      "execution_count": 0,
      "outputs": []
    },
    {
      "metadata": {
        "id": "gCTt0pUVk_hj",
        "colab_type": "code",
        "colab": {}
      },
      "cell_type": "code",
      "source": [
        "ACCESS_TOKEN = \" l\"\n",
        "ACCESS_TOKEN_SECRET = \" \"\n",
        "CONSUMER_KEY = \" \"\n",
        "CONSUMER_SECRET = \" \""
      ],
      "execution_count": 0,
      "outputs": []
    },
    {
      "metadata": {
        "id": "O_khEuAEUOjL",
        "colab_type": "code",
        "colab": {}
      },
      "cell_type": "code",
      "source": [
        "# # # # TWITTER CLIENT # # # #\n",
        "class TwitterClient():\n",
        "    def __init__(self, twitter_user=None):\n",
        "        self.auth = TwitterAuthenticator().authenticate_twitter_app()\n",
        "        self.twitter_client = API(self.auth)\n",
        "\n",
        "        self.twitter_user = twitter_user\n",
        "\n",
        "    def get_user_timeline_tweets(self, num_tweets):\n",
        "        tweets = []\n",
        "        for tweet in Cursor(self.twitter_client.user_timeline, id=self.twitter_user).items(num_tweets):\n",
        "            tweets.append(tweet)\n",
        "        return tweets\n",
        "\n",
        "    def get_friend_list(self, num_friends):\n",
        "        friend_list = []\n",
        "        for friend in Cursor(self.twitter_client.friends, id=self.twitter_user).items(num_friends):\n",
        "            friend_list.append(friend)\n",
        "        return friend_list\n",
        "\n",
        "    def get_home_timeline_tweets(self, num_tweets):\n",
        "        home_timeline_tweets = []\n",
        "        for tweet in Cursor(self.twitter_client.home_timeline, id=self.twitter_user).items(num_tweets):\n",
        "            home_timeline_tweets.append(tweet)\n",
        "        return home_timeline_tweets"
      ],
      "execution_count": 0,
      "outputs": []
    },
    {
      "metadata": {
        "id": "6ExBRzttUPUK",
        "colab_type": "code",
        "colab": {}
      },
      "cell_type": "code",
      "source": [
        "# # # # TWITTER AUTHENTICATER # # # #\n",
        "class TwitterAuthenticator():\n",
        "    def authenticate_twitter_app(self):\n",
        "        auth = OAuthHandler(CONSUMER_KEY, CONSUMER_SECRET)\n",
        "        auth.set_access_token(ACCESS_TOKEN, ACCESS_TOKEN_SECRET)\n",
        "        return auth"
      ],
      "execution_count": 0,
      "outputs": []
    },
    {
      "metadata": {
        "id": "Ci19V3RTUPRA",
        "colab_type": "code",
        "colab": {}
      },
      "cell_type": "code",
      "source": [
        "# # # # TWITTER STREAMER # # # #\n",
        "class TwitterStreamer():\n",
        "    \"\"\"\n",
        "    Class for streaming and processing live tweets.\n",
        "    \"\"\"\n",
        "    def __init__(self):\n",
        "        self.twitter_autenticator = TwitterAuthenticator()    \n",
        "    def stream_tweets(self, fetched_tweets_filename, hash_tag_list):\n",
        "        # This handles Twitter authetification and the connection to Twitter Streaming API\n",
        "        listener = TwitterListener(fetched_tweets_filename)\n",
        "        auth = self.twitter_autenticator.authenticate_twitter_app() \n",
        "        stream = Stream(auth, listener)\n",
        "        # This line filter Twitter Streams to capture data by the keywords: \n",
        "        stream.filter(track=hash_tag_list)"
      ],
      "execution_count": 0,
      "outputs": []
    },
    {
      "metadata": {
        "id": "Jc6qPEkeUPNu",
        "colab_type": "code",
        "colab": {}
      },
      "cell_type": "code",
      "source": [
        "# # # # TWITTER STREAM LISTENER # # # #\n",
        "class TwitterListener(StreamListener):\n",
        "    \"\"\"\n",
        "    This is a basic listener that just prints received tweets to stdout.\n",
        "    \"\"\"\n",
        "    def __init__(self, fetched_tweets_filename):\n",
        "        self.fetched_tweets_filename = fetched_tweets_filename\n",
        "    def on_data(self, data):\n",
        "        try:\n",
        "            print(data)\n",
        "            with open(self.fetched_tweets_filename, 'a') as tf:\n",
        "                tf.write(data)\n",
        "            return True\n",
        "        except BaseException as e:\n",
        "            print(\"Error on_data %s\" % str(e))\n",
        "        return True\n",
        "    def on_error(self, status):\n",
        "        if status == 420:\n",
        "            # Returning False on_data method in case rate limit occurs.\n",
        "            return False\n",
        "        print(status)"
      ],
      "execution_count": 0,
      "outputs": []
    },
    {
      "metadata": {
        "id": "0x-bHLxyWtqA",
        "colab_type": "code",
        "colab": {}
      },
      "cell_type": "code",
      "source": [
        "if __name__ == '__main__':\n",
        " \n",
        "    # Authenticate using config.py and connect to Twitter Streaming API.\n",
        "    hash_tag_list = [\"donal trump\", \"hillary clinton\", \"barack obama\", \"bernie sanders\"]\n",
        "    fetched_tweets_filename = \"/home/tweets.txt\"\n",
        "    twitter_client = TwitterClient('pycon')\n",
        "    print(twitter_client.get_user_timeline_tweets(1))\n",
        "    twitter_streamer = TwitterStreamer()\n",
        "    twitter_streamer.stream_tweets(fetched_tweets_filename, hash_tag_list)"
      ],
      "execution_count": 0,
      "outputs": []
    },
    {
      "metadata": {
        "id": "b2gLwDMoWttu",
        "colab_type": "code",
        "colab": {}
      },
      "cell_type": "code",
      "source": [
        ""
      ],
      "execution_count": 0,
      "outputs": []
    },
    {
      "metadata": {
        "id": "Jy2Ic3jaWtxh",
        "colab_type": "code",
        "colab": {}
      },
      "cell_type": "code",
      "source": [
        ""
      ],
      "execution_count": 0,
      "outputs": []
    }
  ]
}