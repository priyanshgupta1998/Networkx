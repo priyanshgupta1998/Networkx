{
  "nbformat": 4,
  "nbformat_minor": 0,
  "metadata": {
    "colab": {
      "name": "TensorFlow_with_GPU.ipynb",
      "version": "0.3.2",
      "provenance": [],
      "collapsed_sections": [],
      "include_colab_link": true
    },
    "kernelspec": {
      "name": "python3",
      "display_name": "Python 3"
    },
    "accelerator": "GPU"
  },
  "cells": [
    {
      "cell_type": "markdown",
      "metadata": {
        "id": "view-in-github",
        "colab_type": "text"
      },
      "source": [
        "<a href=\"https://colab.research.google.com/github/priyanshgupta1998/Networkx/blob/master/twitter_analysis5.ipynb\" target=\"_parent\"><img src=\"https://colab.research.google.com/assets/colab-badge.svg\" alt=\"Open In Colab\"/></a>"
      ]
    },
    {
      "metadata": {
        "id": "srws2gP8b5td",
        "colab_type": "text"
      },
      "cell_type": "markdown",
      "source": [
        "#analyzing_twitter_data"
      ]
    },
    {
      "metadata": {
        "id": "2nqRvvl2lC5x",
        "colab_type": "text"
      },
      "cell_type": "markdown",
      "source": [
        "#Tweepy   \n",
        "An easy-to-use Python library for accessing the Twitter API.  \n",
        "http://www.tweepy.org   \n",
        "https://tweepy.readthedocs.io/en/v3.5.0/\n"
      ]
    },
    {
      "metadata": {
        "id": "BEeGw8HWcBDz",
        "colab_type": "code",
        "colab": {}
      },
      "cell_type": "code",
      "source": [
        "from tweepy import API \n",
        "from tweepy import Cursor\n",
        "from tweepy.streaming import StreamListener\n",
        "from tweepy import OAuthHandler\n",
        "from tweepy import Stream"
      ],
      "execution_count": 0,
      "outputs": []
    },
    {
      "metadata": {
        "id": "gCTt0pUVk_hj",
        "colab_type": "code",
        "colab": {}
      },
      "cell_type": "code",
      "source": [
        "ACCESS_TOKEN = " "\n",
        "ACCESS_TOKEN_SECRET = " "\n",
        "CONSUMER_KEY = " "\n",
        "CONSUMER_SECRET = " ""
      ],
      "execution_count": 0,
      "outputs": []
    },
    {
      "metadata": {
        "id": "d7qI2EYXb-cP",
        "colab_type": "code",
        "colab": {}
      },
      "cell_type": "code",
      "source": [
        "import numpy as np\n",
        "import pandas as pd"
      ],
      "execution_count": 0,
      "outputs": []
    },
    {
      "metadata": {
        "id": "lMzjtV_ob-e3",
        "colab_type": "code",
        "colab": {}
      },
      "cell_type": "code",
      "source": [
        "# # # # TWITTER CLIENT # # # #\n",
        "class TwitterClient():\n",
        "    def __init__(self, twitter_user=None):\n",
        "        self.auth = TwitterAuthenticator().authenticate_twitter_app()\n",
        "        self.twitter_client = API(self.auth)\n",
        "\n",
        "        self.twitter_user = twitter_user\n",
        "\n",
        "    def get_twitter_client_api(self):\n",
        "        return self.twitter_client\n",
        "\n",
        "    def get_user_timeline_tweets(self, num_tweets):\n",
        "        tweets = []\n",
        "        for tweet in Cursor(self.twitter_client.user_timeline, id=self.twitter_user).items(num_tweets):\n",
        "            tweets.append(tweet)\n",
        "        return tweets\n",
        "\n",
        "    def get_friend_list(self, num_friends):\n",
        "        friend_list = []\n",
        "        for friend in Cursor(self.twitter_client.friends, id=self.twitter_user).items(num_friends):\n",
        "            friend_list.append(friend)\n",
        "        return friend_list\n",
        "\n",
        "    def get_home_timeline_tweets(self, num_tweets):\n",
        "        home_timeline_tweets = []\n",
        "        for tweet in Cursor(self.twitter_client.home_timeline, id=self.twitter_user).items(num_tweets):\n",
        "            home_timeline_tweets.append(tweet)\n",
        "        return home_timeline_tweets"
      ],
      "execution_count": 0,
      "outputs": []
    },
    {
      "metadata": {
        "id": "AFG58Qr9b-hO",
        "colab_type": "code",
        "colab": {}
      },
      "cell_type": "code",
      "source": [
        "# # # # TWITTER AUTHENTICATER # # # #\n",
        "class TwitterAuthenticator():\n",
        "    def authenticate_twitter_app(self):\n",
        "        auth = OAuthHandler(CONSUMER_KEY, CONSUMER_SECRET)\n",
        "        auth.set_access_token(ACCESS_TOKEN, ACCESS_TOKEN_SECRET)\n",
        "        return auth"
      ],
      "execution_count": 0,
      "outputs": []
    },
    {
      "metadata": {
        "id": "-txz4OLWb-lL",
        "colab_type": "code",
        "colab": {}
      },
      "cell_type": "code",
      "source": [
        "# # # # TWITTER STREAMER # # # #\n",
        "class TwitterStreamer():\n",
        "    \"\"\"\n",
        "    Class for streaming and processing live tweets.\n",
        "    \"\"\"\n",
        "    def __init__(self):\n",
        "        self.twitter_autenticator = TwitterAuthenticator()    \n",
        "\n",
        "    def stream_tweets(self, fetched_tweets_filename, hash_tag_list):\n",
        "        # This handles Twitter authetification and the connection to Twitter Streaming API\n",
        "        listener = TwitterListener(fetched_tweets_filename)\n",
        "        auth = self.twitter_autenticator.authenticate_twitter_app() \n",
        "        stream = Stream(auth, listener)\n",
        "\n",
        "        # This line filter Twitter Streams to capture data by the keywords: \n",
        "        stream.filter(track=hash_tag_list)\n"
      ],
      "execution_count": 0,
      "outputs": []
    },
    {
      "metadata": {
        "id": "3IAyq4reb-oU",
        "colab_type": "code",
        "colab": {}
      },
      "cell_type": "code",
      "source": [
        "# # # # TWITTER STREAM LISTENER # # # #\n",
        "class TwitterListener(StreamListener):\n",
        "    \"\"\"\n",
        "    This is a basic listener that just prints received tweets to stdout.\n",
        "    \"\"\"\n",
        "    def __init__(self, fetched_tweets_filename):\n",
        "        self.fetched_tweets_filename = fetched_tweets_filename\n",
        "\n",
        "    def on_data(self, data):\n",
        "        try:\n",
        "            print(data)\n",
        "            with open(self.fetched_tweets_filename, 'a') as tf:\n",
        "                tf.write(data)\n",
        "            return True\n",
        "        except BaseException as e:\n",
        "            print(\"Error on_data %s\" % str(e))\n",
        "        return True\n",
        "          \n",
        "    def on_error(self, status):\n",
        "        if status == 420:\n",
        "            # Returning False on_data method in case rate limit occurs.\n",
        "            return False\n",
        "        print(status)"
      ],
      "execution_count": 0,
      "outputs": []
    },
    {
      "metadata": {
        "id": "aGw-yWuocV1l",
        "colab_type": "code",
        "colab": {}
      },
      "cell_type": "code",
      "source": [
        "class TweetAnalyzer():\n",
        "    \"\"\"\n",
        "    Functionality for analyzing and categorizing content from tweets.\n",
        "    \"\"\"\n",
        "    def tweets_to_data_frame(self, tweets):\n",
        "        df = pd.DataFrame(data=[tweet.text for tweet in tweets], columns=['Tweets'])\n",
        "\n",
        "        df['id'] = np.array([tweet.id for tweet in tweets])\n",
        "        df['len'] = np.array([len(tweet.text) for tweet in tweets])\n",
        "        df['date'] = np.array([tweet.created_at for tweet in tweets])\n",
        "        df['source'] = np.array([tweet.source for tweet in tweets])\n",
        "        df['likes'] = np.array([tweet.favorite_count for tweet in tweets])\n",
        "        df['retweets'] = np.array([tweet.retweet_count for tweet in tweets])\n",
        "\n",
        "        return df"
      ],
      "execution_count": 0,
      "outputs": []
    },
    {
      "metadata": {
        "id": "zuoLbfkkb-qf",
        "colab_type": "code",
        "colab": {
          "base_uri": "https://localhost:8080/",
          "height": 359
        },
        "outputId": "35260fda-e308-4a28-d777-7cb8617c96f2"
      },
      "cell_type": "code",
      "source": [
        "if __name__ == '__main__':\n",
        "    twitter_client = TwitterClient()\n",
        "    tweet_analyzer = TweetAnalyzer()\n",
        "    api = twitter_client.get_twitter_client_api()\n",
        "    tweets = api.user_timeline(screen_name=\"realDonaldTrump\", count=20)\n",
        "    #print(dir(tweets[0]))\n",
        "    #print(tweets[0].retweet_count)\n",
        "    df = tweet_analyzer.tweets_to_data_frame(tweets)\n",
        "df.head(10)\n"
      ],
      "execution_count": 30,
      "outputs": [
        {
          "output_type": "execute_result",
          "data": {
            "text/html": [
              "<div>\n",
              "<style scoped>\n",
              "    .dataframe tbody tr th:only-of-type {\n",
              "        vertical-align: middle;\n",
              "    }\n",
              "\n",
              "    .dataframe tbody tr th {\n",
              "        vertical-align: top;\n",
              "    }\n",
              "\n",
              "    .dataframe thead th {\n",
              "        text-align: right;\n",
              "    }\n",
              "</style>\n",
              "<table border=\"1\" class=\"dataframe\">\n",
              "  <thead>\n",
              "    <tr style=\"text-align: right;\">\n",
              "      <th></th>\n",
              "      <th>Tweets</th>\n",
              "      <th>id</th>\n",
              "      <th>len</th>\n",
              "      <th>date</th>\n",
              "      <th>source</th>\n",
              "      <th>likes</th>\n",
              "      <th>retweets</th>\n",
              "    </tr>\n",
              "  </thead>\n",
              "  <tbody>\n",
              "    <tr>\n",
              "      <th>0</th>\n",
              "      <td>RT @TomFitton: Tom Fitton on @RealDonaldTrump ...</td>\n",
              "      <td>1110387923709579264</td>\n",
              "      <td>139</td>\n",
              "      <td>2019-03-26 03:48:05</td>\n",
              "      <td>Twitter for iPhone</td>\n",
              "      <td>0</td>\n",
              "      <td>5029</td>\n",
              "    </tr>\n",
              "    <tr>\n",
              "      <th>1</th>\n",
              "      <td>RT @DonaldJTrumpJr: Christmas came early this ...</td>\n",
              "      <td>1110383915485810689</td>\n",
              "      <td>75</td>\n",
              "      <td>2019-03-26 03:32:10</td>\n",
              "      <td>Twitter for iPhone</td>\n",
              "      <td>0</td>\n",
              "      <td>12323</td>\n",
              "    </tr>\n",
              "    <tr>\n",
              "      <th>2</th>\n",
              "      <td>RT @ZacharyIvanPor1: @realDonaldTrump Thank yo...</td>\n",
              "      <td>1110381904417751041</td>\n",
              "      <td>139</td>\n",
              "      <td>2019-03-26 03:24:10</td>\n",
              "      <td>Twitter for iPhone</td>\n",
              "      <td>0</td>\n",
              "      <td>4411</td>\n",
              "    </tr>\n",
              "    <tr>\n",
              "      <th>3</th>\n",
              "      <td>RT @ScottABC7: The Stanley Cup and the Caps wi...</td>\n",
              "      <td>1110363093073301505</td>\n",
              "      <td>125</td>\n",
              "      <td>2019-03-26 02:09:25</td>\n",
              "      <td>Twitter for iPhone</td>\n",
              "      <td>0</td>\n",
              "      <td>4115</td>\n",
              "    </tr>\n",
              "    <tr>\n",
              "      <th>4</th>\n",
              "      <td>A team of great champions! https://t.co/Pm5p9L...</td>\n",
              "      <td>1110362981756555264</td>\n",
              "      <td>50</td>\n",
              "      <td>2019-03-26 02:08:59</td>\n",
              "      <td>Twitter for iPhone</td>\n",
              "      <td>45334</td>\n",
              "      <td>7990</td>\n",
              "    </tr>\n",
              "    <tr>\n",
              "      <th>5</th>\n",
              "      <td>RT @keeperofthecup: Hanging out in the Rooseve...</td>\n",
              "      <td>1110362445326024704</td>\n",
              "      <td>139</td>\n",
              "      <td>2019-03-26 02:06:51</td>\n",
              "      <td>Twitter for iPhone</td>\n",
              "      <td>0</td>\n",
              "      <td>2887</td>\n",
              "    </tr>\n",
              "    <tr>\n",
              "      <th>6</th>\n",
              "      <td>RT @bmcnally14: The #Caps won a Stanley Cup so...</td>\n",
              "      <td>1110362130455449602</td>\n",
              "      <td>140</td>\n",
              "      <td>2019-03-26 02:05:36</td>\n",
              "      <td>Twitter for iPhone</td>\n",
              "      <td>0</td>\n",
              "      <td>2465</td>\n",
              "    </tr>\n",
              "    <tr>\n",
              "      <th>7</th>\n",
              "      <td>WSJ: Obama Admin Must Account for ‘Abuse of Su...</td>\n",
              "      <td>1110359392023646208</td>\n",
              "      <td>107</td>\n",
              "      <td>2019-03-26 01:54:43</td>\n",
              "      <td>Twitter for iPhone</td>\n",
              "      <td>65779</td>\n",
              "      <td>23262</td>\n",
              "    </tr>\n",
              "    <tr>\n",
              "      <th>8</th>\n",
              "      <td>Today, it was my great honor to welcome Prime ...</td>\n",
              "      <td>1110242521400123394</td>\n",
              "      <td>139</td>\n",
              "      <td>2019-03-25 18:10:19</td>\n",
              "      <td>Twitter for iPhone</td>\n",
              "      <td>108685</td>\n",
              "      <td>24456</td>\n",
              "    </tr>\n",
              "    <tr>\n",
              "      <th>9</th>\n",
              "      <td>https://t.co/G4RNXzoWqc</td>\n",
              "      <td>1110231470059208704</td>\n",
              "      <td>23</td>\n",
              "      <td>2019-03-25 17:26:24</td>\n",
              "      <td>Twitter for iPhone</td>\n",
              "      <td>50521</td>\n",
              "      <td>13402</td>\n",
              "    </tr>\n",
              "  </tbody>\n",
              "</table>\n",
              "</div>"
            ],
            "text/plain": [
              "                                              Tweets                   id  \\\n",
              "0  RT @TomFitton: Tom Fitton on @RealDonaldTrump ...  1110387923709579264   \n",
              "1  RT @DonaldJTrumpJr: Christmas came early this ...  1110383915485810689   \n",
              "2  RT @ZacharyIvanPor1: @realDonaldTrump Thank yo...  1110381904417751041   \n",
              "3  RT @ScottABC7: The Stanley Cup and the Caps wi...  1110363093073301505   \n",
              "4  A team of great champions! https://t.co/Pm5p9L...  1110362981756555264   \n",
              "5  RT @keeperofthecup: Hanging out in the Rooseve...  1110362445326024704   \n",
              "6  RT @bmcnally14: The #Caps won a Stanley Cup so...  1110362130455449602   \n",
              "7  WSJ: Obama Admin Must Account for ‘Abuse of Su...  1110359392023646208   \n",
              "8  Today, it was my great honor to welcome Prime ...  1110242521400123394   \n",
              "9                            https://t.co/G4RNXzoWqc  1110231470059208704   \n",
              "\n",
              "   len                date              source   likes  retweets  \n",
              "0  139 2019-03-26 03:48:05  Twitter for iPhone       0      5029  \n",
              "1   75 2019-03-26 03:32:10  Twitter for iPhone       0     12323  \n",
              "2  139 2019-03-26 03:24:10  Twitter for iPhone       0      4411  \n",
              "3  125 2019-03-26 02:09:25  Twitter for iPhone       0      4115  \n",
              "4   50 2019-03-26 02:08:59  Twitter for iPhone   45334      7990  \n",
              "5  139 2019-03-26 02:06:51  Twitter for iPhone       0      2887  \n",
              "6  140 2019-03-26 02:05:36  Twitter for iPhone       0      2465  \n",
              "7  107 2019-03-26 01:54:43  Twitter for iPhone   65779     23262  \n",
              "8  139 2019-03-25 18:10:19  Twitter for iPhone  108685     24456  \n",
              "9   23 2019-03-25 17:26:24  Twitter for iPhone   50521     13402  "
            ]
          },
          "metadata": {
            "tags": []
          },
          "execution_count": 30
        }
      ]
    },
    {
      "metadata": {
        "id": "S_WCi0QBb-jG",
        "colab_type": "code",
        "colab": {}
      },
      "cell_type": "code",
      "source": [
        ""
      ],
      "execution_count": 0,
      "outputs": []
    }
  ]
}
