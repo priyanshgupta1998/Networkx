{
  "nbformat": 4,
  "nbformat_minor": 0,
  "metadata": {
    "colab": {
      "name": "Welcome To Colaboratory",
      "version": "0.3.2",
      "provenance": [],
      "collapsed_sections": [],
      "include_colab_link": true
    },
    "kernelspec": {
      "name": "python3",
      "display_name": "Python 3"
    },
    "accelerator": "GPU"
  },
  "cells": [
    {
      "cell_type": "markdown",
      "metadata": {
        "id": "view-in-github",
        "colab_type": "text"
      },
      "source": [
        "<a href=\"https://colab.research.google.com/github/priyanshgupta1998/Networkx/blob/master/twitter_analysis8.ipynb\" target=\"_parent\"><img src=\"https://colab.research.google.com/assets/colab-badge.svg\" alt=\"Open In Colab\"/></a>"
      ]
    },
    {
      "metadata": {
        "id": "gB_ucPWwnCUi",
        "colab_type": "text"
      },
      "cell_type": "markdown",
      "source": [
        "#twitter sentimental analysis"
      ]
    },
    {
      "metadata": {
        "id": "dGH3dwjZm_Pq",
        "colab_type": "code",
        "colab": {}
      },
      "cell_type": "code",
      "source": [
        "import tweepy\n",
        "from textblob import TextBlob"
      ],
      "execution_count": 0,
      "outputs": []
    },
    {
      "metadata": {
        "id": "0iouMWFSm_Tj",
        "colab_type": "code",
        "colab": {}
      },
      "cell_type": "code",
      "source": [
        "# Step 1 - Authenticate\n",
        "consumer_key=  \" \"\n",
        "consumer_secret=   \" \"\n",
        "access_token=\" \"\n",
        "access_token_secret=\" \""
      ],
      "execution_count": 0,
      "outputs": []
    },
    {
      "metadata": {
        "id": "ocGc2NH4m_Yo",
        "colab_type": "code",
        "colab": {}
      },
      "cell_type": "code",
      "source": [
        "auth = tweepy.OAuthHandler(consumer_key, consumer_secret)\n",
        "auth.set_access_token(access_token, access_token_secret)"
      ],
      "execution_count": 0,
      "outputs": []
    },
    {
      "metadata": {
        "id": "r5ShLy2Kn5Vh",
        "colab_type": "code",
        "colab": {}
      },
      "cell_type": "code",
      "source": [
        "api = tweepy.API(auth)"
      ],
      "execution_count": 0,
      "outputs": []
    },
    {
      "metadata": {
        "id": "azdBg05dn7zo",
        "colab_type": "code",
        "colab": {}
      },
      "cell_type": "code",
      "source": [
        "#Step 3 - Retrieve Tweets\n",
        "public_tweets = api.search('priyans49767484')"
      ],
      "execution_count": 0,
      "outputs": []
    },
    {
      "metadata": {
        "id": "t9IULI90oMn_",
        "colab_type": "text"
      },
      "cell_type": "markdown",
      "source": [
        "CHALLENGE - Instead of printing out each tweet, save each Tweet to a CSV file  and label each one as either 'positive' or 'negative', depending on the sentiment  You can decide the sentiment polarity threshold yourself  "
      ]
    },
    {
      "metadata": {
        "id": "1Ix1XcRvm_eJ",
        "colab_type": "code",
        "colab": {}
      },
      "cell_type": "code",
      "source": [
        "for tweet in public_tweets:\n",
        "    print(tweet.text)\n",
        "    #Step 4 Perform Sentiment Analysis on Tweets\n",
        "    analysis = TextBlob(tweet.text)\n",
        "    print(analysis.sentiment)\n",
        "    print(\"\")"
      ],
      "execution_count": 0,
      "outputs": []
    },
    {
      "metadata": {
        "id": "2K-rKX2IrMKh",
        "colab_type": "text"
      },
      "cell_type": "markdown",
      "source": [
        "\n",
        "\n",
        "---\n",
        "\n",
        "\n",
        "\n",
        "---\n",
        "\n",
        "\n",
        "\n",
        "---\n",
        "\n",
        "\n",
        "\n",
        "---\n",
        "\n",
        "\n",
        "\n",
        "---\n",
        "\n",
        "\n",
        "\n",
        "---\n",
        "\n"
      ]
    },
    {
      "metadata": {
        "id": "Lsjvd5G8r4tg",
        "colab_type": "text"
      },
      "cell_type": "markdown",
      "source": [
        "**Others**"
      ]
    },
    {
      "metadata": {
        "id": "wdOxNuxisTqP",
        "colab_type": "text"
      },
      "cell_type": "markdown",
      "source": [
        "#Example 1"
      ]
    },
    {
      "metadata": {
        "id": "54O3NFCbm_ha",
        "colab_type": "code",
        "colab": {}
      },
      "cell_type": "code",
      "source": [
        "var = TextBlob(\"Sometimes the people around you won’t understand your journey. They don’t need to, it’s not for them.\")"
      ],
      "execution_count": 0,
      "outputs": []
    },
    {
      "metadata": {
        "id": "LxeW4lTKrhK_",
        "colab_type": "code",
        "colab": {
          "base_uri": "https://localhost:8080/",
          "height": 68
        },
        "outputId": "52ca3a2a-7711-4c27-fbae-ab1491ce886e"
      },
      "cell_type": "code",
      "source": [
        "import nltk\n",
        "nltk.download('punkt')"
      ],
      "execution_count": 30,
      "outputs": [
        {
          "output_type": "stream",
          "text": [
            "[nltk_data] Downloading package punkt to /root/nltk_data...\n",
            "[nltk_data]   Package punkt is already up-to-date!\n"
          ],
          "name": "stdout"
        },
        {
          "output_type": "execute_result",
          "data": {
            "text/plain": [
              "True"
            ]
          },
          "metadata": {
            "tags": []
          },
          "execution_count": 30
        }
      ]
    },
    {
      "metadata": {
        "id": "k99JHzWorq7v",
        "colab_type": "code",
        "colab": {
          "base_uri": "https://localhost:8080/",
          "height": 85
        },
        "outputId": "fc72eaf1-e176-42b4-9c9f-883efbf37a38"
      },
      "cell_type": "code",
      "source": [
        "nltk.download('averaged_perceptron_tagger')"
      ],
      "execution_count": 31,
      "outputs": [
        {
          "output_type": "stream",
          "text": [
            "[nltk_data] Downloading package averaged_perceptron_tagger to\n",
            "[nltk_data]     /root/nltk_data...\n",
            "[nltk_data]   Unzipping taggers/averaged_perceptron_tagger.zip.\n"
          ],
          "name": "stdout"
        },
        {
          "output_type": "execute_result",
          "data": {
            "text/plain": [
              "True"
            ]
          },
          "metadata": {
            "tags": []
          },
          "execution_count": 31
        }
      ]
    },
    {
      "metadata": {
        "id": "hT_X_Lu1m_k0",
        "colab_type": "code",
        "colab": {
          "base_uri": "https://localhost:8080/",
          "height": 408
        },
        "outputId": "a9372a0c-6d55-4046-a1b1-5c4b46d1e7c8"
      },
      "cell_type": "code",
      "source": [
        "var.tags"
      ],
      "execution_count": 32,
      "outputs": [
        {
          "output_type": "execute_result",
          "data": {
            "text/plain": [
              "[('Sometimes', 'RB'),\n",
              " ('the', 'DT'),\n",
              " ('people', 'NNS'),\n",
              " ('around', 'IN'),\n",
              " ('you', 'PRP'),\n",
              " ('won', 'VBD'),\n",
              " ('’', 'NNP'),\n",
              " ('t', 'JJ'),\n",
              " ('understand', 'VBP'),\n",
              " ('your', 'PRP$'),\n",
              " ('journey', 'NN'),\n",
              " ('They', 'PRP'),\n",
              " ('don', 'VBP'),\n",
              " ('’', 'JJ'),\n",
              " ('t', 'NNS'),\n",
              " ('need', 'VBP'),\n",
              " ('to', 'TO'),\n",
              " ('it', 'PRP'),\n",
              " ('’', 'VBD'),\n",
              " ('s', 'PRP'),\n",
              " ('not', 'RB'),\n",
              " ('for', 'IN'),\n",
              " ('them', 'PRP')]"
            ]
          },
          "metadata": {
            "tags": []
          },
          "execution_count": 32
        }
      ]
    },
    {
      "metadata": {
        "id": "6dfGFD_trylJ",
        "colab_type": "code",
        "colab": {
          "base_uri": "https://localhost:8080/",
          "height": 54
        },
        "outputId": "42789728-bc31-4279-c67c-d1c1536f02ae"
      },
      "cell_type": "code",
      "source": [
        "var.words"
      ],
      "execution_count": 34,
      "outputs": [
        {
          "output_type": "execute_result",
          "data": {
            "text/plain": [
              "WordList(['Sometimes', 'the', 'people', 'around', 'you', 'won', '’', 't', 'understand', 'your', 'journey', 'They', 'don', '’', 't', 'need', 'to', 'it', '’', 's', 'not', 'for', 'them'])"
            ]
          },
          "metadata": {
            "tags": []
          },
          "execution_count": 34
        }
      ]
    },
    {
      "metadata": {
        "id": "2Li6oMVTrynK",
        "colab_type": "code",
        "colab": {
          "base_uri": "https://localhost:8080/",
          "height": 34
        },
        "outputId": "01e74e74-d3f9-4b0c-c611-704f61b082c5"
      },
      "cell_type": "code",
      "source": [
        "var.sentiment.polarity"
      ],
      "execution_count": 36,
      "outputs": [
        {
          "output_type": "execute_result",
          "data": {
            "text/plain": [
              "0.0"
            ]
          },
          "metadata": {
            "tags": []
          },
          "execution_count": 36
        }
      ]
    },
    {
      "metadata": {
        "id": "t92cyXRVucfw",
        "colab_type": "text"
      },
      "cell_type": "markdown",
      "source": [
        "The **polarity** is a measurement of netativity or positivity .  \n",
        "means data how much positive or how much negative."
      ]
    },
    {
      "metadata": {
        "id": "Kaf4sX6xsQ6g",
        "colab_type": "text"
      },
      "cell_type": "markdown",
      "source": [
        "#Example 2   \n",
        "Negative sentiment 33%"
      ]
    },
    {
      "metadata": {
        "id": "pT-VORkIryq7",
        "colab_type": "code",
        "colab": {
          "base_uri": "https://localhost:8080/",
          "height": 54
        },
        "outputId": "e66f01d9-471d-4811-88fb-da078e1fa605"
      },
      "cell_type": "code",
      "source": [
        "sen = TextBlob(\"NEGATIVE PEOPLE ARE SOOOOOO FRUSTRATING TO BE AROUND. KEEP YOUR NEGATIVE ENERGY TO YOURSELF.\")\n",
        "print(sen.tags)"
      ],
      "execution_count": 42,
      "outputs": [
        {
          "output_type": "stream",
          "text": [
            "[('NEGATIVE', 'JJ'), ('PEOPLE', 'NNS'), ('ARE', 'VBP'), ('SOOOOOO', 'NNP'), ('FRUSTRATING', 'NNP'), ('TO', 'NNP'), ('BE', 'NNP'), ('AROUND', 'NNP'), ('KEEP', 'VB'), ('YOUR', 'NNP'), ('NEGATIVE', 'NNP'), ('ENERGY', 'NNP'), ('TO', 'NNP'), ('YOURSELF', 'NNP')]\n"
          ],
          "name": "stdout"
        }
      ]
    },
    {
      "metadata": {
        "id": "FQHbBP4WvgVX",
        "colab_type": "code",
        "colab": {
          "base_uri": "https://localhost:8080/",
          "height": 34
        },
        "outputId": "e6be3158-7174-4e30-bea5-aae254e44f5b"
      },
      "cell_type": "code",
      "source": [
        "sen.words"
      ],
      "execution_count": 43,
      "outputs": [
        {
          "output_type": "execute_result",
          "data": {
            "text/plain": [
              "WordList(['NEGATIVE', 'PEOPLE', 'ARE', 'SOOOOOO', 'FRUSTRATING', 'TO', 'BE', 'AROUND', 'KEEP', 'YOUR', 'NEGATIVE', 'ENERGY', 'TO', 'YOURSELF'])"
            ]
          },
          "metadata": {
            "tags": []
          },
          "execution_count": 43
        }
      ]
    },
    {
      "metadata": {
        "id": "mkzWhIpcvj5u",
        "colab_type": "code",
        "colab": {
          "base_uri": "https://localhost:8080/",
          "height": 34
        },
        "outputId": "e87196d3-f8b3-49df-8227-8c88d8c32767"
      },
      "cell_type": "code",
      "source": [
        "sen.sentiment"
      ],
      "execution_count": 44,
      "outputs": [
        {
          "output_type": "execute_result",
          "data": {
            "text/plain": [
              "Sentiment(polarity=-0.3333333333333333, subjectivity=0.5666666666666668)"
            ]
          },
          "metadata": {
            "tags": []
          },
          "execution_count": 44
        }
      ]
    }
  ]
}