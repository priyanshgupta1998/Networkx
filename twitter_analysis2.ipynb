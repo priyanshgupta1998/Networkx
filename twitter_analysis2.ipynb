{
  "nbformat": 4,
  "nbformat_minor": 0,
  "metadata": {
    "colab": {
      "name": "TensorFlow_with_GPU.ipynb",
      "version": "0.3.2",
      "provenance": [],
      "collapsed_sections": [],
      "include_colab_link": true
    },
    "kernelspec": {
      "name": "python3",
      "display_name": "Python 3"
    },
    "accelerator": "GPU"
  },
  "cells": [
    {
      "cell_type": "markdown",
      "metadata": {
        "id": "view-in-github",
        "colab_type": "text"
      },
      "source": [
        "<a href=\"https://colab.research.google.com/github/priyanshgupta1998/Networkx/blob/master/twitter_analysis2.ipynb\" target=\"_parent\"><img src=\"https://colab.research.google.com/assets/colab-badge.svg\" alt=\"Open In Colab\"/></a>"
      ]
    },
    {
      "metadata": {
        "id": "StFhvHVLAIFU",
        "colab_type": "text"
      },
      "cell_type": "markdown",
      "source": [
        "#snatwitter-searchhashtag.py"
      ]
    },
    {
      "metadata": {
        "id": "pDZvbG3X_6x8",
        "colab_type": "code",
        "colab": {}
      },
      "cell_type": "code",
      "source": [
        "from twitter import *\n",
        "import networkx as nx\n",
        "import json\n",
        "import os"
      ],
      "execution_count": 0,
      "outputs": []
    },
    {
      "metadata": {
        "id": "9e_-jt4O_61W",
        "colab_type": "code",
        "colab": {
          "base_uri": "https://localhost:8080/",
          "height": 34
        },
        "outputId": "9b6bbc81-b737-4227-a824-09ba49f5f50a"
      },
      "cell_type": "code",
      "source": [
        "# Clear screen\n",
        "os.system('cls' if os.name=='nt' else 'clear')"
      ],
      "execution_count": 84,
      "outputs": [
        {
          "output_type": "execute_result",
          "data": {
            "text/plain": [
              "0"
            ]
          },
          "metadata": {
            "tags": []
          },
          "execution_count": 84
        }
      ]
    },
    {
      "metadata": {
        "id": "uZEXlT4j_63P",
        "colab_type": "code",
        "colab": {
          "base_uri": "https://localhost:8080/",
          "height": 85
        },
        "outputId": "b655e63b-3169-4960-e7d1-897d62dc1599"
      },
      "cell_type": "code",
      "source": [
        "graph=nx.DiGraph()\n",
        "print(\"\")\n",
        "print(\".....................................................\")\n",
        "print (\"RT NETWORK OF AN HASHTAG\")\n",
        "print(\"\")\n",
        "hashtag = \"#priyans49767484\""
      ],
      "execution_count": 87,
      "outputs": [
        {
          "output_type": "stream",
          "text": [
            "\n",
            ".....................................................\n",
            "RT NETWORK OF AN HASHTAG\n",
            "\n"
          ],
          "name": "stdout"
        }
      ]
    },
    {
      "metadata": {
        "id": "EglMz0nm_662",
        "colab_type": "code",
        "colab": {}
      },
      "cell_type": "code",
      "source": [
        "# Log in\n",
        "OAUTH_TOKEN = \"793203628429438978-o1Gs0rjBN3TesBu6cV5muiic15XeZpl\"\n",
        "OAUTH_SECRET = \"GVyujMi5n0gE0QE2R2fWK6R7wwxE3R2olAr4s0xd1NCnh\"\n",
        "CONSUMER_KEY = \"hCsfln5TQNt3p39CDC3dCJf6d\"\n",
        "CONSUMER_SECRET = \"7G3Q5a7Q33D8ENP2oI4ef1Earv4WfEldaPA1eaeR69NtblDQYY\""
      ],
      "execution_count": 0,
      "outputs": []
    },
    {
      "metadata": {
        "id": "vcTwveF9_69k",
        "colab_type": "code",
        "colab": {}
      },
      "cell_type": "code",
      "source": [
        "auth = OAuth(OAUTH_TOKEN, OAUTH_SECRET, CONSUMER_KEY, CONSUMER_SECRET)\n",
        "twitter = Twitter(auth = auth)"
      ],
      "execution_count": 0,
      "outputs": []
    },
    {
      "metadata": {
        "id": "bo_LIY9jA4L0",
        "colab_type": "code",
        "colab": {}
      },
      "cell_type": "code",
      "source": [
        "# search\n",
        "# https://dev.twitter.com/docs/api/1.1/get/search/tweets\n",
        "query = twitter.search.tweets(q=hashtag, count=100)"
      ],
      "execution_count": 0,
      "outputs": []
    },
    {
      "metadata": {
        "id": "U0WXb0_IA4J6",
        "colab_type": "code",
        "colab": {
          "base_uri": "https://localhost:8080/",
          "height": 51
        },
        "outputId": "d8c61d2d-a9d9-4f2a-935e-bfea0e411f8f"
      },
      "cell_type": "code",
      "source": [
        "# Debug line\n",
        "#print json.dumps(query, sort_keys=True, indent=4)\n",
        "\n",
        "# Print results\n",
        "print(\"Search complete (%f seconds)\" % (query[\"search_metadata\"][\"completed_in\"]))\n",
        "print(\"Found\",len(query[\"statuses\"]),\"results.\")"
      ],
      "execution_count": 93,
      "outputs": [
        {
          "output_type": "stream",
          "text": [
            "Search complete (0.012000 seconds)\n",
            "Found 0 results.\n"
          ],
          "name": "stdout"
        }
      ]
    },
    {
      "metadata": {
        "id": "k6QUUJHxA4H7",
        "colab_type": "code",
        "colab": {}
      },
      "cell_type": "code",
      "source": [
        "# Get results and find retweets and mentions\n",
        "for result in query[\"statuses\"]:\n",
        "\tprint (\"\")\n",
        "\tprint (\"Tweet:\",result[\"text\"])\n",
        "\tprint (\"By user:\",result[\"user\"][\"name\"])\n",
        "\tif len(result[\"entities\"][\"user_mentions\"]) != 0:\n",
        "\t\tprint (\"Mentions:\")\n",
        "\t\tfor i in result[\"entities\"][\"user_mentions\"]:\n",
        "\t\t\tprint (\" - by\",i[\"screen_name\"])\n",
        "\t\t\tgraph.add_edge(i[\"screen_name\"],result[\"user\"][\"name\"])\n",
        "\tif \"retweeted_status\" in result:\n",
        "\t\tif len(result[\"retweeted_status\"][\"entities\"][\"user_mentions\"]) != 0:\n",
        "\t\t\tprint( \"Retweets:\")\n",
        "\t\t\tfor i in result[\"retweeted_status\"][\"entities\"][\"user_mentions\"]:\n",
        "\t\t\t\tprint (\" - by\",i[\"screen_name\"])\n",
        "\t\t\t\tgraph.add_edge(i[\"screen_name\"],result[\"user\"][\"name\"])\n",
        "\telse:\n",
        "\t\tpass"
      ],
      "execution_count": 0,
      "outputs": []
    },
    {
      "metadata": {
        "id": "VneCohao_6_w",
        "colab_type": "code",
        "colab": {
          "base_uri": "https://localhost:8080/",
          "height": 85
        },
        "outputId": "464e774b-97b7-4e8e-c8f7-bc16ab749773"
      },
      "cell_type": "code",
      "source": [
        "# Save graph\n",
        "print( \"\")\n",
        "print (\"The network of RT of the hashtag was analyzed succesfully.\")\n",
        "print( \"\")\n",
        "print (\"Saving the file as \"+hashtag+\"-rt-network.gexf...\")\n",
        "nx.write_gexf(graph,\"/home/\"+ hashtag+\"-rt-network.gexf\")"
      ],
      "execution_count": 97,
      "outputs": [
        {
          "output_type": "stream",
          "text": [
            "\n",
            "The network of RT of the hashtag was analyzed succesfully.\n",
            "\n",
            "Saving the file as #priyans49767484-rt-network.gexf...\n"
          ],
          "name": "stdout"
        }
      ]
    },
    {
      "metadata": {
        "id": "c50k8QZSBbJ8",
        "colab_type": "code",
        "colab": {}
      },
      "cell_type": "code",
      "source": [
        "nx.write_gexf(graph,\"/home/\"+ hashtag+\"-rt-network.txt\")"
      ],
      "execution_count": 0,
      "outputs": []
    }
  ]
}