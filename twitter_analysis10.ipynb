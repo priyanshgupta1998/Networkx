{
  "nbformat": 4,
  "nbformat_minor": 0,
  "metadata": {
    "colab": {
      "name": "Welcome To Colaboratory",
      "version": "0.3.2",
      "provenance": [],
      "collapsed_sections": [],
      "include_colab_link": true
    },
    "kernelspec": {
      "display_name": "Python 3",
      "name": "python3"
    }
  },
  "cells": [
    {
      "cell_type": "markdown",
      "metadata": {
        "id": "view-in-github",
        "colab_type": "text"
      },
      "source": [
        "<a href=\"https://colab.research.google.com/github/priyanshgupta1998/Networkx/blob/master/twitter_analysis10.ipynb\" target=\"_parent\"><img src=\"https://colab.research.google.com/assets/colab-badge.svg\" alt=\"Open In Colab\"/></a>"
      ]
    },
    {
      "metadata": {
        "id": "b4vQ8Ni4CQec",
        "colab_type": "text"
      },
      "cell_type": "markdown",
      "source": [
        "#twitter-sentiment-analysis"
      ]
    },
    {
      "metadata": {
        "id": "p_uQvi2S-DvF",
        "colab_type": "code",
        "colab": {}
      },
      "cell_type": "code",
      "source": [
        "from textblob import TextBlob"
      ],
      "execution_count": 0,
      "outputs": []
    },
    {
      "metadata": {
        "id": "CTJbgIBs-Dxm",
        "colab_type": "code",
        "colab": {}
      },
      "cell_type": "code",
      "source": [
        "sent1 = \"he is awesome\"             # strongly positive\n",
        "sent2 = \"he is very good person \"   # positive"
      ],
      "execution_count": 0,
      "outputs": []
    },
    {
      "metadata": {
        "id": "Ldekl8V6-D1e",
        "colab_type": "code",
        "colab": {}
      },
      "cell_type": "code",
      "source": [
        "blob1  = TextBlob(sent1)\n",
        "blob2 = TextBlob(sent2)"
      ],
      "execution_count": 0,
      "outputs": []
    },
    {
      "metadata": {
        "id": "znBpwdrI-D4s",
        "colab_type": "code",
        "colab": {
          "base_uri": "https://localhost:8080/",
          "height": 51
        },
        "outputId": "09887439-7865-4dca-89f5-599e1227df77"
      },
      "cell_type": "code",
      "source": [
        "print(blob1.sentiment)\n",
        "print(blob2.sentiment)"
      ],
      "execution_count": 4,
      "outputs": [
        {
          "output_type": "stream",
          "text": [
            "Sentiment(polarity=1.0, subjectivity=1.0)\n",
            "Sentiment(polarity=0.9099999999999999, subjectivity=0.7800000000000001)\n"
          ],
          "name": "stdout"
        }
      ]
    },
    {
      "metadata": {
        "id": "hUJprcv4_e1V",
        "colab_type": "text"
      },
      "cell_type": "markdown",
      "source": [
        "The polarity measurement tells us that how positive our statement is    OR  how Negative our statement is ."
      ]
    },
    {
      "metadata": {
        "id": "ImMigSRPCCtd",
        "colab_type": "text"
      },
      "cell_type": "markdown",
      "source": [
        "#Main-Program"
      ]
    },
    {
      "metadata": {
        "id": "FzedxrRC-D8L",
        "colab_type": "code",
        "colab": {}
      },
      "cell_type": "code",
      "source": [
        "import tweepy\n",
        "from tweepy import OAuthHandler"
      ],
      "execution_count": 0,
      "outputs": []
    },
    {
      "metadata": {
        "id": "nqt8n5x5CCPz",
        "colab_type": "code",
        "colab": {}
      },
      "cell_type": "code",
      "source": [
        "ACCESS_TOKEN = \"793203628429438978-o1Gs0rjBN3TesBu6cV5muiic15XeZpl\"\n",
        "ACCESS_TOKEN_SECRET = \"GVyujMi5n0gE0QE2R2fWK6R7wwxE3R2olAr4s0xd1NCnh\"\n",
        "CONSUMER_KEY = \"hCsfln5TQNt3p39CDC3dCJf6d\"\n",
        "CONSUMER_SECRET = \"7G3Q5a7Q33D8ENP2oI4ef1Earv4WfEldaPA1eaeR69NtblDQYY\""
      ],
      "execution_count": 0,
      "outputs": []
    },
    {
      "metadata": {
        "id": "ayPXVWI0-D9y",
        "colab_type": "code",
        "colab": {}
      },
      "cell_type": "code",
      "source": [
        "auth = OAuthHandler(CONSUMER_KEY, CONSUMER_SECRET)\n",
        "auth.set_access_token(ACCESS_TOKEN, ACCESS_TOKEN_SECRET)"
      ],
      "execution_count": 0,
      "outputs": []
    },
    {
      "metadata": {
        "id": "TM5fpXqZCsVv",
        "colab_type": "code",
        "colab": {}
      },
      "cell_type": "code",
      "source": [
        "api = tweepy.API(auth)"
      ],
      "execution_count": 0,
      "outputs": []
    },
    {
      "metadata": {
        "id": "8QtjCbrW-D6g",
        "colab_type": "code",
        "colab": {}
      },
      "cell_type": "code",
      "source": [
        "public_tweets =  api.search('India')"
      ],
      "execution_count": 0,
      "outputs": []
    },
    {
      "metadata": {
        "id": "hdjVn--oDD_M",
        "colab_type": "code",
        "colab": {
          "base_uri": "https://localhost:8080/",
          "height": 952
        },
        "outputId": "a58efb7f-4a85-40d4-b1b1-f6ff375fc4ea"
      },
      "cell_type": "code",
      "source": [
        "for tweet in public_tweets:\n",
        "    print(tweet.text)\n",
        "    #Step 4 Perform Sentiment Analysis on Tweets\n",
        "    analysis = TextBlob(tweet.text)\n",
        "    print(analysis.sentiment)\n",
        "    print(\"\")"
      ],
      "execution_count": 16,
      "outputs": [
        {
          "output_type": "stream",
          "text": [
            "RT @CNBCTV18Live: #RaghuramRajan doubts if India is growing at 7%, calls for an independent panel of economists to clear the cloud over GDP…\n",
            "Sentiment(polarity=0.05000000000000001, subjectivity=0.25416666666666665)\n",
            "\n",
            "RT ZeeNewsHindi: अरुणाचल प्रदेश में BJP को मिली बड़ी कामयाबी, चुनाव से पहले जीतीं दो सीटें\n",
            "\n",
            "https://t.co/fx0ox8vyAj\n",
            "Sentiment(polarity=0.0, subjectivity=0.0)\n",
            "\n",
            "RT @BJP4Karnataka: Congress Party Election Promise\n",
            "\n",
            "1947 - Garibi Hatao\n",
            "1971 - Garibi Hatao\n",
            "1991 - Garibi Hatao\n",
            "2004 - Garibi Hatao\n",
            "2014 -…\n",
            "Sentiment(polarity=0.0, subjectivity=0.0)\n",
            "\n",
            "@ashwinravi99 @narendramodi This is the only way you know to dismissal @josbuttler .... #cheapshot #embarassmoment \n",
            "dont let india down\n",
            "Sentiment(polarity=-0.07777777777777779, subjectivity=0.6444444444444445)\n",
            "\n",
            "RT @AndhraPMC: McKinsey estimated that complete gender parity in India could add $770 billion to the country’s annual GDP by 2025.\n",
            "#Missing…\n",
            "Sentiment(polarity=0.1, subjectivity=0.4)\n",
            "\n",
            "RT @ovieali: Internet Data in Nigeria will get a lot cheaper this year. MTN,Glo,Airtel,9mobile now have the freedom to reduce data price wi…\n",
            "Sentiment(polarity=0.0, subjectivity=0.0)\n",
            "\n",
            "RT @IMFNews: Want to keep up with the IMF’s latest economic research and analysis? Check out our refreshed one-stop shop for IMF publicatio…\n",
            "Sentiment(polarity=0.35, subjectivity=0.55)\n",
            "\n",
            "RT @TamilNaduPMC: The International Labour Organization or ILO, in its Decent Work Country Program in India, places due emphasis on the nee…\n",
            "Sentiment(polarity=0.013888888888888886, subjectivity=0.34722222222222215)\n",
            "\n",
            "RT @TheVijayMallya: I invested over 4000 crores into Kingfisher Airlines to save the Company and its employees. Not recognised and instead…\n",
            "Sentiment(polarity=0.0, subjectivity=0.0)\n",
            "\n",
            "If I was @JoshButler, I would grab some old wood from a scrap yard, stick my autograph on it and market it as “The… https://t.co/qkSgpDA8sN\n",
            "Sentiment(polarity=0.1, subjectivity=0.2)\n",
            "\n",
            "RT @ZeeNewsHindi: सारदा चिटफंड घोटाला: न्यायालय ने कहा, सीबीआई ने प्रगति रिपोर्ट में बहुत ही गंभीर खुलासे किए है\n",
            "\n",
            "https://t.co/ifcXbicZT3“v…\n",
            "Sentiment(polarity=0.0, subjectivity=0.0)\n",
            "\n",
            "RT @RahulGandhi: They did Demonetisation and Gabbar Singh Tax. \n",
            "\n",
            "We ✋will give NYAY and a real GST. \n",
            "\n",
            "NYAY= Surgical Strike on Poverty = 72…\n",
            "Sentiment(polarity=0.2, subjectivity=0.30000000000000004)\n",
            "\n",
            "RT @sushilrTOI: 56 Indian workers from Telangana in distress in Saudi Arabia. Construction company defaults on paying salaries. Their work…\n",
            "Sentiment(polarity=0.0, subjectivity=0.0)\n",
            "\n"
          ],
          "name": "stdout"
        }
      ]
    },
    {
      "metadata": {
        "id": "gyXooGFCDEBr",
        "colab_type": "code",
        "colab": {}
      },
      "cell_type": "code",
      "source": [
        ""
      ],
      "execution_count": 0,
      "outputs": []
    },
    {
      "metadata": {
        "id": "OlL61yIlDEGc",
        "colab_type": "code",
        "colab": {}
      },
      "cell_type": "code",
      "source": [
        ""
      ],
      "execution_count": 0,
      "outputs": []
    },
    {
      "metadata": {
        "id": "dPQJir-mDEJ0",
        "colab_type": "code",
        "colab": {}
      },
      "cell_type": "code",
      "source": [
        ""
      ],
      "execution_count": 0,
      "outputs": []
    },
    {
      "metadata": {
        "id": "yyZvQlK_DENd",
        "colab_type": "code",
        "colab": {}
      },
      "cell_type": "code",
      "source": [
        ""
      ],
      "execution_count": 0,
      "outputs": []
    }
  ]
}