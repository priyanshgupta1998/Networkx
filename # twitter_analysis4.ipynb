{
  "nbformat": 4,
  "nbformat_minor": 0,
  "metadata": {
    "colab": {
      "name": "TensorFlow_with_GPU.ipynb",
      "version": "0.3.2",
      "provenance": [],
      "collapsed_sections": [],
      "include_colab_link": true
    },
    "kernelspec": {
      "name": "python3",
      "display_name": "Python 3"
    },
    "accelerator": "GPU"
  },
  "cells": [
    {
      "cell_type": "markdown",
      "metadata": {
        "id": "view-in-github",
        "colab_type": "text"
      },
      "source": [
        "<a href=\"https://colab.research.google.com/github/priyanshgupta1998/Networkx/blob/master/%23%20twitter_analysis4.ipynb\" target=\"_parent\"><img src=\"https://colab.research.google.com/assets/colab-badge.svg\" alt=\"Open In Colab\"/></a>"
      ]
    },
    {
      "metadata": {
        "id": "8rLZNWBUaMv-",
        "colab_type": "text"
      },
      "cell_type": "markdown",
      "source": [
        "#streaming_tweets"
      ]
    },
    {
      "metadata": {
        "id": "2nqRvvl2lC5x",
        "colab_type": "text"
      },
      "cell_type": "markdown",
      "source": [
        "#Tweepy   \n",
        "An easy-to-use Python library for accessing the Twitter API.  \n",
        "http://www.tweepy.org   \n",
        "https://tweepy.readthedocs.io/en/v3.5.0/\n"
      ]
    },
    {
      "metadata": {
        "id": "VRH6KDdEaRJj",
        "colab_type": "code",
        "colab": {}
      },
      "cell_type": "code",
      "source": [
        "\n",
        "from tweepy.streaming import StreamListener\n",
        "from tweepy import OAuthHandler\n",
        "from tweepy import Stream"
      ],
      "execution_count": 0,
      "outputs": []
    },
    {
      "metadata": {
        "id": "gCTt0pUVk_hj",
        "colab_type": "code",
        "colab": {}
      },
      "cell_type": "code",
      "source": [
        "ACCESS_TOKEN = \" \"\n",
        "ACCESS_TOKEN_SECRET = \" \"\n",
        "CONSUMER_KEY = \" \"\n",
        "CONSUMER_SECRET = \" \""
      ],
      "execution_count": 0,
      "outputs": []
    },
    {
      "metadata": {
        "id": "MUX-kQP2apkU",
        "colab_type": "code",
        "colab": {}
      },
      "cell_type": "code",
      "source": [
        "class StdOutListener(StreamListener):\n",
        "    def on_data(self, data):\n",
        "        print(data)\n",
        "        return True\n",
        "    def on_error(self, status):\n",
        "        print(status)\n",
        "if __name__ == '__main__':\n",
        "    # Authenticate using config.py and connect to Twitter Streaming API.\n",
        "    listener = StdOutListener()\n",
        "    auth = OAuthHandler(CONSUMER_KEY, CONSUMER_SECRET)\n",
        "    auth.set_access_token( ACCESS_TOKEN,  ACCESS_TOKEN_SECRET)\n",
        "    stream = Stream(auth, listener)\n",
        "    hash_tag_list = [\"donal trump\", \"hillary clinton\", \"barack obama\", \"bernie sanders\"]\n",
        "    stream.filter(track=hash_tag_list)"
      ],
      "execution_count": 0,
      "outputs": []
    },
    {
      "metadata": {
        "id": "cy3lEVC7bVKz",
        "colab_type": "text"
      },
      "cell_type": "markdown",
      "source": [
        "\n",
        "\n",
        "---\n",
        "\n",
        "\n",
        "\n",
        "---\n",
        "\n",
        "\n",
        "\n",
        "---\n",
        "\n",
        "\n",
        "\n",
        "---\n",
        "\n",
        "\n",
        "\n",
        "---\n",
        "\n",
        "\n",
        "\n",
        "---\n",
        "\n"
      ]
    },
    {
      "metadata": {
        "id": "wV_HLv64aamE",
        "colab_type": "code",
        "colab": {}
      },
      "cell_type": "code",
      "source": [
        "# # # # TWITTER STREAMER # # # #\n",
        "class TwitterStreamer():\n",
        "    \"\"\"\n",
        "    Class for streaming and processing live tweets.\n",
        "    \"\"\"\n",
        "    def __init__(self):\n",
        "        pass\n",
        "\n",
        "    def stream_tweets(self, fetched_tweets_filename, hash_tag_list):\n",
        "        # This handles Twitter authetification and the connection to Twitter Streaming API\n",
        "        listener = StdOutListener(fetched_tweets_filename)\n",
        "        auth = OAuthHandler(CONSUMER_KEY, CONSUMER_SECRET)\n",
        "        auth.set_access_token( ACCESS_TOKEN,  ACCESS_TOKEN_SECRET)\n",
        "        stream = Stream(auth, listener)\n",
        "\n",
        "        # This line filter Twitter Streams to capture data by the keywords: \n",
        "        stream.filter(track=hash_tag_list)\n"
      ],
      "execution_count": 0,
      "outputs": []
    },
    {
      "metadata": {
        "id": "0Bg6cUg4alce",
        "colab_type": "code",
        "colab": {}
      },
      "cell_type": "code",
      "source": [
        "# # # # TWITTER STREAM LISTENER # # # #\n",
        "class StdOutListener(StreamListener):\n",
        "    \"\"\"\n",
        "    This is a basic listener that just prints received tweets to stdout.\n",
        "    \"\"\"\n",
        "    def __init__(self, fetched_tweets_filename):\n",
        "        self.fetched_tweets_filename = fetched_tweets_filename\n",
        "\n",
        "    def on_data(self, data):\n",
        "        try:\n",
        "            print(data)\n",
        "            with open(self.fetched_tweets_filename, 'a') as tf:\n",
        "                tf.write(data)\n",
        "            return True\n",
        "        except BaseException as e:\n",
        "            print(\"Error on_data %s\" % str(e))\n",
        "        return True\n",
        "    def on_error(self, status):\n",
        "        print(status)"
      ],
      "execution_count": 0,
      "outputs": []
    },
    {
      "metadata": {
        "id": "rqjgsTvpaaft",
        "colab_type": "code",
        "colab": {}
      },
      "cell_type": "code",
      "source": [
        "if __name__ == '__main__':\n",
        " \n",
        "    # Authenticate using config.py and connect to Twitter Streaming API.\n",
        "    hash_tag_list = [\"donal trump\", \"hillary clinton\", \"barack obama\", \"bernie sanders\"]\n",
        "    fetched_tweets_filename = \"tweets.txt\"\n",
        "\n",
        "    twitter_streamer = TwitterStreamer()\n",
        "    twitter_streamer.stream_tweets(fetched_tweets_filename, hash_tag_list)"
      ],
      "execution_count": 0,
      "outputs": []
    }
  ]
}